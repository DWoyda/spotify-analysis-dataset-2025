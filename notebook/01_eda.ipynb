{
 "cells": [
  {
   "cell_type": "code",
   "execution_count": 101,
   "id": "2f618da7",
   "metadata": {},
   "outputs": [],
   "source": [
    "import kagglehub\n",
    "import pandas as pd\n",
    "import seaborn as sns\n",
    "import matplotlib.pyplot as plt\n",
    "import warnings \n",
    "warnings.filterwarnings('ignore')\n"
   ]
  },
  {
   "cell_type": "code",
   "execution_count": 102,
   "id": "eb239550",
   "metadata": {},
   "outputs": [
    {
     "name": "stdout",
     "output_type": "stream",
     "text": [
      "Path to dataset files: C:\\Users\\wojdz\\.cache\\kagglehub\\datasets\\nabihazahid\\spotify-dataset-for-churn-analysis\\versions\\2\n"
     ]
    }
   ],
   "source": [
    "# Download latest version\n",
    "path = kagglehub.dataset_download(\"nabihazahid/spotify-dataset-for-churn-analysis\")\n",
    "\n",
    "print(\"Path to dataset files:\", path)"
   ]
  },
  {
   "cell_type": "code",
   "execution_count": 103,
   "id": "f87419d1",
   "metadata": {},
   "outputs": [],
   "source": [
    "df = pd.read_csv(f'{path}/spotify_churn_dataset.csv')"
   ]
  },
  {
   "cell_type": "markdown",
   "id": "be2a61c6",
   "metadata": {},
   "source": [
    "# EDA RAW"
   ]
  },
  {
   "cell_type": "markdown",
   "id": "d8b56be9",
   "metadata": {},
   "source": [
    "TARGET - Build machine learning models to predict user churn (`is_churned`), analyze engagement patterns, and help Spotify reduce cancellations."
   ]
  },
  {
   "cell_type": "code",
   "execution_count": 104,
   "id": "02cbbef9",
   "metadata": {},
   "outputs": [
    {
     "data": {
      "application/vnd.microsoft.datawrangler.viewer.v0+json": {
       "columns": [
        {
         "name": "index",
         "rawType": "int64",
         "type": "integer"
        },
        {
         "name": "user_id",
         "rawType": "int64",
         "type": "integer"
        },
        {
         "name": "gender",
         "rawType": "object",
         "type": "string"
        },
        {
         "name": "age",
         "rawType": "int64",
         "type": "integer"
        },
        {
         "name": "country",
         "rawType": "object",
         "type": "string"
        },
        {
         "name": "subscription_type",
         "rawType": "object",
         "type": "string"
        },
        {
         "name": "listening_time",
         "rawType": "int64",
         "type": "integer"
        },
        {
         "name": "songs_played_per_day",
         "rawType": "int64",
         "type": "integer"
        },
        {
         "name": "skip_rate",
         "rawType": "float64",
         "type": "float"
        },
        {
         "name": "device_type",
         "rawType": "object",
         "type": "string"
        },
        {
         "name": "ads_listened_per_week",
         "rawType": "int64",
         "type": "integer"
        },
        {
         "name": "offline_listening",
         "rawType": "int64",
         "type": "integer"
        },
        {
         "name": "is_churned",
         "rawType": "int64",
         "type": "integer"
        }
       ],
       "ref": "c98ab07e-0b60-4c49-b318-d252cd00e00d",
       "rows": [
        [
         "0",
         "1",
         "Female",
         "54",
         "CA",
         "Free",
         "26",
         "23",
         "0.2",
         "Desktop",
         "31",
         "0",
         "1"
        ],
        [
         "1",
         "2",
         "Other",
         "33",
         "DE",
         "Family",
         "141",
         "62",
         "0.34",
         "Web",
         "0",
         "1",
         "0"
        ],
        [
         "2",
         "3",
         "Male",
         "38",
         "AU",
         "Premium",
         "199",
         "38",
         "0.04",
         "Mobile",
         "0",
         "1",
         "1"
        ],
        [
         "3",
         "4",
         "Female",
         "22",
         "CA",
         "Student",
         "36",
         "2",
         "0.31",
         "Mobile",
         "0",
         "1",
         "0"
        ],
        [
         "4",
         "5",
         "Other",
         "29",
         "US",
         "Family",
         "250",
         "57",
         "0.36",
         "Mobile",
         "0",
         "1",
         "1"
        ]
       ],
       "shape": {
        "columns": 12,
        "rows": 5
       }
      },
      "text/html": [
       "<div>\n",
       "<style scoped>\n",
       "    .dataframe tbody tr th:only-of-type {\n",
       "        vertical-align: middle;\n",
       "    }\n",
       "\n",
       "    .dataframe tbody tr th {\n",
       "        vertical-align: top;\n",
       "    }\n",
       "\n",
       "    .dataframe thead th {\n",
       "        text-align: right;\n",
       "    }\n",
       "</style>\n",
       "<table border=\"1\" class=\"dataframe\">\n",
       "  <thead>\n",
       "    <tr style=\"text-align: right;\">\n",
       "      <th></th>\n",
       "      <th>user_id</th>\n",
       "      <th>gender</th>\n",
       "      <th>age</th>\n",
       "      <th>country</th>\n",
       "      <th>subscription_type</th>\n",
       "      <th>listening_time</th>\n",
       "      <th>songs_played_per_day</th>\n",
       "      <th>skip_rate</th>\n",
       "      <th>device_type</th>\n",
       "      <th>ads_listened_per_week</th>\n",
       "      <th>offline_listening</th>\n",
       "      <th>is_churned</th>\n",
       "    </tr>\n",
       "  </thead>\n",
       "  <tbody>\n",
       "    <tr>\n",
       "      <th>0</th>\n",
       "      <td>1</td>\n",
       "      <td>Female</td>\n",
       "      <td>54</td>\n",
       "      <td>CA</td>\n",
       "      <td>Free</td>\n",
       "      <td>26</td>\n",
       "      <td>23</td>\n",
       "      <td>0.20</td>\n",
       "      <td>Desktop</td>\n",
       "      <td>31</td>\n",
       "      <td>0</td>\n",
       "      <td>1</td>\n",
       "    </tr>\n",
       "    <tr>\n",
       "      <th>1</th>\n",
       "      <td>2</td>\n",
       "      <td>Other</td>\n",
       "      <td>33</td>\n",
       "      <td>DE</td>\n",
       "      <td>Family</td>\n",
       "      <td>141</td>\n",
       "      <td>62</td>\n",
       "      <td>0.34</td>\n",
       "      <td>Web</td>\n",
       "      <td>0</td>\n",
       "      <td>1</td>\n",
       "      <td>0</td>\n",
       "    </tr>\n",
       "    <tr>\n",
       "      <th>2</th>\n",
       "      <td>3</td>\n",
       "      <td>Male</td>\n",
       "      <td>38</td>\n",
       "      <td>AU</td>\n",
       "      <td>Premium</td>\n",
       "      <td>199</td>\n",
       "      <td>38</td>\n",
       "      <td>0.04</td>\n",
       "      <td>Mobile</td>\n",
       "      <td>0</td>\n",
       "      <td>1</td>\n",
       "      <td>1</td>\n",
       "    </tr>\n",
       "    <tr>\n",
       "      <th>3</th>\n",
       "      <td>4</td>\n",
       "      <td>Female</td>\n",
       "      <td>22</td>\n",
       "      <td>CA</td>\n",
       "      <td>Student</td>\n",
       "      <td>36</td>\n",
       "      <td>2</td>\n",
       "      <td>0.31</td>\n",
       "      <td>Mobile</td>\n",
       "      <td>0</td>\n",
       "      <td>1</td>\n",
       "      <td>0</td>\n",
       "    </tr>\n",
       "    <tr>\n",
       "      <th>4</th>\n",
       "      <td>5</td>\n",
       "      <td>Other</td>\n",
       "      <td>29</td>\n",
       "      <td>US</td>\n",
       "      <td>Family</td>\n",
       "      <td>250</td>\n",
       "      <td>57</td>\n",
       "      <td>0.36</td>\n",
       "      <td>Mobile</td>\n",
       "      <td>0</td>\n",
       "      <td>1</td>\n",
       "      <td>1</td>\n",
       "    </tr>\n",
       "  </tbody>\n",
       "</table>\n",
       "</div>"
      ],
      "text/plain": [
       "   user_id  gender  age country subscription_type  listening_time  \\\n",
       "0        1  Female   54      CA              Free              26   \n",
       "1        2   Other   33      DE            Family             141   \n",
       "2        3    Male   38      AU           Premium             199   \n",
       "3        4  Female   22      CA           Student              36   \n",
       "4        5   Other   29      US            Family             250   \n",
       "\n",
       "   songs_played_per_day  skip_rate device_type  ads_listened_per_week  \\\n",
       "0                    23       0.20     Desktop                     31   \n",
       "1                    62       0.34         Web                      0   \n",
       "2                    38       0.04      Mobile                      0   \n",
       "3                     2       0.31      Mobile                      0   \n",
       "4                    57       0.36      Mobile                      0   \n",
       "\n",
       "   offline_listening  is_churned  \n",
       "0                  0           1  \n",
       "1                  1           0  \n",
       "2                  1           1  \n",
       "3                  1           0  \n",
       "4                  1           1  "
      ]
     },
     "execution_count": 104,
     "metadata": {},
     "output_type": "execute_result"
    }
   ],
   "source": [
    "df.head()"
   ]
  },
  {
   "cell_type": "code",
   "execution_count": 105,
   "id": "eca57134",
   "metadata": {},
   "outputs": [
    {
     "data": {
      "application/vnd.microsoft.datawrangler.viewer.v0+json": {
       "columns": [
        {
         "name": "index",
         "rawType": "int64",
         "type": "integer"
        },
        {
         "name": "user_id",
         "rawType": "int64",
         "type": "integer"
        },
        {
         "name": "gender",
         "rawType": "object",
         "type": "string"
        },
        {
         "name": "age",
         "rawType": "int64",
         "type": "integer"
        },
        {
         "name": "country",
         "rawType": "object",
         "type": "string"
        },
        {
         "name": "subscription_type",
         "rawType": "object",
         "type": "string"
        },
        {
         "name": "listening_time",
         "rawType": "int64",
         "type": "integer"
        },
        {
         "name": "songs_played_per_day",
         "rawType": "int64",
         "type": "integer"
        },
        {
         "name": "skip_rate",
         "rawType": "float64",
         "type": "float"
        },
        {
         "name": "device_type",
         "rawType": "object",
         "type": "string"
        },
        {
         "name": "ads_listened_per_week",
         "rawType": "int64",
         "type": "integer"
        },
        {
         "name": "offline_listening",
         "rawType": "int64",
         "type": "integer"
        },
        {
         "name": "is_churned",
         "rawType": "int64",
         "type": "integer"
        }
       ],
       "ref": "9b983413-895b-4acb-afc8-554b73c15e41",
       "rows": [
        [
         "7995",
         "7996",
         "Other",
         "44",
         "DE",
         "Student",
         "237",
         "36",
         "0.3",
         "Mobile",
         "0",
         "1",
         "1"
        ],
        [
         "7996",
         "7997",
         "Male",
         "34",
         "AU",
         "Premium",
         "61",
         "64",
         "0.59",
         "Mobile",
         "0",
         "1",
         "0"
        ],
        [
         "7997",
         "7998",
         "Female",
         "17",
         "US",
         "Free",
         "81",
         "62",
         "0.33",
         "Desktop",
         "5",
         "0",
         "0"
        ],
        [
         "7998",
         "7999",
         "Female",
         "34",
         "IN",
         "Student",
         "245",
         "94",
         "0.27",
         "Desktop",
         "0",
         "1",
         "0"
        ],
        [
         "7999",
         "8000",
         "Other",
         "45",
         "AU",
         "Free",
         "210",
         "68",
         "0.46",
         "Desktop",
         "6",
         "0",
         "0"
        ]
       ],
       "shape": {
        "columns": 12,
        "rows": 5
       }
      },
      "text/html": [
       "<div>\n",
       "<style scoped>\n",
       "    .dataframe tbody tr th:only-of-type {\n",
       "        vertical-align: middle;\n",
       "    }\n",
       "\n",
       "    .dataframe tbody tr th {\n",
       "        vertical-align: top;\n",
       "    }\n",
       "\n",
       "    .dataframe thead th {\n",
       "        text-align: right;\n",
       "    }\n",
       "</style>\n",
       "<table border=\"1\" class=\"dataframe\">\n",
       "  <thead>\n",
       "    <tr style=\"text-align: right;\">\n",
       "      <th></th>\n",
       "      <th>user_id</th>\n",
       "      <th>gender</th>\n",
       "      <th>age</th>\n",
       "      <th>country</th>\n",
       "      <th>subscription_type</th>\n",
       "      <th>listening_time</th>\n",
       "      <th>songs_played_per_day</th>\n",
       "      <th>skip_rate</th>\n",
       "      <th>device_type</th>\n",
       "      <th>ads_listened_per_week</th>\n",
       "      <th>offline_listening</th>\n",
       "      <th>is_churned</th>\n",
       "    </tr>\n",
       "  </thead>\n",
       "  <tbody>\n",
       "    <tr>\n",
       "      <th>7995</th>\n",
       "      <td>7996</td>\n",
       "      <td>Other</td>\n",
       "      <td>44</td>\n",
       "      <td>DE</td>\n",
       "      <td>Student</td>\n",
       "      <td>237</td>\n",
       "      <td>36</td>\n",
       "      <td>0.30</td>\n",
       "      <td>Mobile</td>\n",
       "      <td>0</td>\n",
       "      <td>1</td>\n",
       "      <td>1</td>\n",
       "    </tr>\n",
       "    <tr>\n",
       "      <th>7996</th>\n",
       "      <td>7997</td>\n",
       "      <td>Male</td>\n",
       "      <td>34</td>\n",
       "      <td>AU</td>\n",
       "      <td>Premium</td>\n",
       "      <td>61</td>\n",
       "      <td>64</td>\n",
       "      <td>0.59</td>\n",
       "      <td>Mobile</td>\n",
       "      <td>0</td>\n",
       "      <td>1</td>\n",
       "      <td>0</td>\n",
       "    </tr>\n",
       "    <tr>\n",
       "      <th>7997</th>\n",
       "      <td>7998</td>\n",
       "      <td>Female</td>\n",
       "      <td>17</td>\n",
       "      <td>US</td>\n",
       "      <td>Free</td>\n",
       "      <td>81</td>\n",
       "      <td>62</td>\n",
       "      <td>0.33</td>\n",
       "      <td>Desktop</td>\n",
       "      <td>5</td>\n",
       "      <td>0</td>\n",
       "      <td>0</td>\n",
       "    </tr>\n",
       "    <tr>\n",
       "      <th>7998</th>\n",
       "      <td>7999</td>\n",
       "      <td>Female</td>\n",
       "      <td>34</td>\n",
       "      <td>IN</td>\n",
       "      <td>Student</td>\n",
       "      <td>245</td>\n",
       "      <td>94</td>\n",
       "      <td>0.27</td>\n",
       "      <td>Desktop</td>\n",
       "      <td>0</td>\n",
       "      <td>1</td>\n",
       "      <td>0</td>\n",
       "    </tr>\n",
       "    <tr>\n",
       "      <th>7999</th>\n",
       "      <td>8000</td>\n",
       "      <td>Other</td>\n",
       "      <td>45</td>\n",
       "      <td>AU</td>\n",
       "      <td>Free</td>\n",
       "      <td>210</td>\n",
       "      <td>68</td>\n",
       "      <td>0.46</td>\n",
       "      <td>Desktop</td>\n",
       "      <td>6</td>\n",
       "      <td>0</td>\n",
       "      <td>0</td>\n",
       "    </tr>\n",
       "  </tbody>\n",
       "</table>\n",
       "</div>"
      ],
      "text/plain": [
       "      user_id  gender  age country subscription_type  listening_time  \\\n",
       "7995     7996   Other   44      DE           Student             237   \n",
       "7996     7997    Male   34      AU           Premium              61   \n",
       "7997     7998  Female   17      US              Free              81   \n",
       "7998     7999  Female   34      IN           Student             245   \n",
       "7999     8000   Other   45      AU              Free             210   \n",
       "\n",
       "      songs_played_per_day  skip_rate device_type  ads_listened_per_week  \\\n",
       "7995                    36       0.30      Mobile                      0   \n",
       "7996                    64       0.59      Mobile                      0   \n",
       "7997                    62       0.33     Desktop                      5   \n",
       "7998                    94       0.27     Desktop                      0   \n",
       "7999                    68       0.46     Desktop                      6   \n",
       "\n",
       "      offline_listening  is_churned  \n",
       "7995                  1           1  \n",
       "7996                  1           0  \n",
       "7997                  0           0  \n",
       "7998                  1           0  \n",
       "7999                  0           0  "
      ]
     },
     "execution_count": 105,
     "metadata": {},
     "output_type": "execute_result"
    }
   ],
   "source": [
    "df.tail()"
   ]
  },
  {
   "cell_type": "code",
   "execution_count": 106,
   "id": "04dd7dba",
   "metadata": {},
   "outputs": [
    {
     "name": "stdout",
     "output_type": "stream",
     "text": [
      "<class 'pandas.core.frame.DataFrame'>\n",
      "RangeIndex: 8000 entries, 0 to 7999\n",
      "Data columns (total 12 columns):\n",
      " #   Column                 Non-Null Count  Dtype  \n",
      "---  ------                 --------------  -----  \n",
      " 0   user_id                8000 non-null   int64  \n",
      " 1   gender                 8000 non-null   object \n",
      " 2   age                    8000 non-null   int64  \n",
      " 3   country                8000 non-null   object \n",
      " 4   subscription_type      8000 non-null   object \n",
      " 5   listening_time         8000 non-null   int64  \n",
      " 6   songs_played_per_day   8000 non-null   int64  \n",
      " 7   skip_rate              8000 non-null   float64\n",
      " 8   device_type            8000 non-null   object \n",
      " 9   ads_listened_per_week  8000 non-null   int64  \n",
      " 10  offline_listening      8000 non-null   int64  \n",
      " 11  is_churned             8000 non-null   int64  \n",
      "dtypes: float64(1), int64(7), object(4)\n",
      "memory usage: 750.1+ KB\n"
     ]
    }
   ],
   "source": [
    "df.info()"
   ]
  },
  {
   "cell_type": "code",
   "execution_count": 107,
   "id": "4a664ebd",
   "metadata": {},
   "outputs": [
    {
     "data": {
      "text/plain": [
       "['user_id',\n",
       " 'gender',\n",
       " 'age',\n",
       " 'country',\n",
       " 'subscription_type',\n",
       " 'listening_time',\n",
       " 'songs_played_per_day',\n",
       " 'skip_rate',\n",
       " 'device_type',\n",
       " 'ads_listened_per_week',\n",
       " 'offline_listening',\n",
       " 'is_churned']"
      ]
     },
     "execution_count": 107,
     "metadata": {},
     "output_type": "execute_result"
    }
   ],
   "source": [
    "df.columns.tolist()"
   ]
  },
  {
   "cell_type": "code",
   "execution_count": 108,
   "id": "6e3506f7",
   "metadata": {},
   "outputs": [
    {
     "data": {
      "application/vnd.microsoft.datawrangler.viewer.v0+json": {
       "columns": [
        {
         "name": "index",
         "rawType": "object",
         "type": "string"
        },
        {
         "name": "0",
         "rawType": "int64",
         "type": "integer"
        }
       ],
       "ref": "83373133-c4b5-4e14-97c7-17f2593b43ef",
       "rows": [
        [
         "user_id",
         "8000"
        ],
        [
         "gender",
         "3"
        ],
        [
         "age",
         "44"
        ],
        [
         "country",
         "8"
        ],
        [
         "subscription_type",
         "4"
        ],
        [
         "listening_time",
         "290"
        ],
        [
         "songs_played_per_day",
         "99"
        ],
        [
         "skip_rate",
         "61"
        ],
        [
         "device_type",
         "3"
        ],
        [
         "ads_listened_per_week",
         "46"
        ],
        [
         "offline_listening",
         "2"
        ],
        [
         "is_churned",
         "2"
        ]
       ],
       "shape": {
        "columns": 1,
        "rows": 12
       }
      },
      "text/plain": [
       "user_id                  8000\n",
       "gender                      3\n",
       "age                        44\n",
       "country                     8\n",
       "subscription_type           4\n",
       "listening_time            290\n",
       "songs_played_per_day       99\n",
       "skip_rate                  61\n",
       "device_type                 3\n",
       "ads_listened_per_week      46\n",
       "offline_listening           2\n",
       "is_churned                  2\n",
       "dtype: int64"
      ]
     },
     "execution_count": 108,
     "metadata": {},
     "output_type": "execute_result"
    }
   ],
   "source": [
    "df.nunique()"
   ]
  },
  {
   "cell_type": "code",
   "execution_count": 109,
   "id": "ebdee4d3",
   "metadata": {},
   "outputs": [
    {
     "data": {
      "text/plain": [
       "{'gender': ['Female', 'Other', 'Male'],\n",
       " 'country': ['CA', 'DE', 'AU', 'US', 'UK', 'IN', 'FR', 'PK'],\n",
       " 'subscription_type': ['Free', 'Family', 'Premium', 'Student'],\n",
       " 'device_type': ['Desktop', 'Web', 'Mobile']}"
      ]
     },
     "execution_count": 109,
     "metadata": {},
     "output_type": "execute_result"
    }
   ],
   "source": [
    "cols = ['gender', 'country', 'subscription_type', 'device_type']\n",
    "uniques = {c: df[c].dropna().unique().tolist() for c in cols}\n",
    "uniques"
   ]
  },
  {
   "cell_type": "code",
   "execution_count": 110,
   "id": "2c0c1859",
   "metadata": {},
   "outputs": [
    {
     "data": {
      "application/vnd.microsoft.datawrangler.viewer.v0+json": {
       "columns": [
        {
         "name": "is_churned",
         "rawType": "int64",
         "type": "integer"
        },
        {
         "name": "count",
         "rawType": "int64",
         "type": "integer"
        }
       ],
       "ref": "744523d1-6aa9-45f8-996d-26af6e3447f2",
       "rows": [
        [
         "0",
         "5929"
        ],
        [
         "1",
         "2071"
        ]
       ],
       "shape": {
        "columns": 1,
        "rows": 2
       }
      },
      "text/plain": [
       "is_churned\n",
       "0    5929\n",
       "1    2071\n",
       "Name: count, dtype: int64"
      ]
     },
     "execution_count": 110,
     "metadata": {},
     "output_type": "execute_result"
    }
   ],
   "source": [
    "df['is_churned'].value_counts()"
   ]
  },
  {
   "cell_type": "markdown",
   "id": "473a38fb",
   "metadata": {},
   "source": [
    "# EDA CLEANING/VIZUALIZATION"
   ]
  },
  {
   "cell_type": "code",
   "execution_count": 111,
   "id": "9c7d5631",
   "metadata": {},
   "outputs": [],
   "source": [
    "df = df.astype({\n",
    "    'gender' : 'category',\n",
    "    'country' : 'category',\n",
    "    'subscription_type' : 'category',\n",
    "    'device_type' : 'category',\n",
    "    'offline_listening' : 'bool',\n",
    "    'is_churned' : 'bool'\n",
    "})"
   ]
  },
  {
   "cell_type": "markdown",
   "id": "3ed7d65b",
   "metadata": {},
   "source": [
    "- **string/object** – stosuję, gdy kolumna ma wysoką krotność (dużo unikalnych wartości lub często pojawiają się nowe) albo potrzebuję intensywnych operacji tekstowych.\n",
    "- **category** – ustawiam, gdy kolumna ma niewiele, stabilnych i powtarzalnych etykiet (np. 3–20), żeby oszczędzić pamięć i przyspieszyć grupowania/łączenia/sortowanie.\n",
    "- **boolean** – wybieram, gdy występują dokładnie dwa stany logiczne (+ ewentualne `NA`), np. tak/nie lub aktywny/nieaktywny.\n"
   ]
  },
  {
   "cell_type": "code",
   "execution_count": 112,
   "id": "aa01d860",
   "metadata": {},
   "outputs": [
    {
     "data": {
      "application/vnd.microsoft.datawrangler.viewer.v0+json": {
       "columns": [
        {
         "name": "index",
         "rawType": "object",
         "type": "string"
        },
        {
         "name": "0",
         "rawType": "int64",
         "type": "integer"
        }
       ],
       "ref": "6fea71fc-bcc6-418d-a8c0-b2aaf6adc4f2",
       "rows": [
        [
         "user_id",
         "0"
        ],
        [
         "gender",
         "0"
        ],
        [
         "age",
         "0"
        ],
        [
         "country",
         "0"
        ],
        [
         "subscription_type",
         "0"
        ],
        [
         "listening_time",
         "0"
        ],
        [
         "songs_played_per_day",
         "0"
        ],
        [
         "skip_rate",
         "0"
        ],
        [
         "device_type",
         "0"
        ],
        [
         "ads_listened_per_week",
         "0"
        ],
        [
         "offline_listening",
         "0"
        ],
        [
         "is_churned",
         "0"
        ]
       ],
       "shape": {
        "columns": 1,
        "rows": 12
       }
      },
      "text/plain": [
       "user_id                  0\n",
       "gender                   0\n",
       "age                      0\n",
       "country                  0\n",
       "subscription_type        0\n",
       "listening_time           0\n",
       "songs_played_per_day     0\n",
       "skip_rate                0\n",
       "device_type              0\n",
       "ads_listened_per_week    0\n",
       "offline_listening        0\n",
       "is_churned               0\n",
       "dtype: int64"
      ]
     },
     "execution_count": 112,
     "metadata": {},
     "output_type": "execute_result"
    }
   ],
   "source": [
    "df.isnull().sum()"
   ]
  },
  {
   "cell_type": "markdown",
   "id": "39ef7088",
   "metadata": {},
   "source": [
    "No nulls"
   ]
  },
  {
   "cell_type": "code",
   "execution_count": 113,
   "id": "2a887201",
   "metadata": {},
   "outputs": [
    {
     "data": {
      "text/plain": [
       "np.int64(0)"
      ]
     },
     "execution_count": 113,
     "metadata": {},
     "output_type": "execute_result"
    }
   ],
   "source": [
    "df.duplicated().sum()"
   ]
  },
  {
   "cell_type": "code",
   "execution_count": 114,
   "id": "35ddf886",
   "metadata": {},
   "outputs": [
    {
     "data": {
      "application/vnd.microsoft.datawrangler.viewer.v0+json": {
       "columns": [
        {
         "name": "index",
         "rawType": "object",
         "type": "string"
        },
        {
         "name": "user_id",
         "rawType": "float64",
         "type": "float"
        },
        {
         "name": "gender",
         "rawType": "object",
         "type": "unknown"
        },
        {
         "name": "age",
         "rawType": "float64",
         "type": "float"
        },
        {
         "name": "country",
         "rawType": "object",
         "type": "unknown"
        },
        {
         "name": "subscription_type",
         "rawType": "object",
         "type": "unknown"
        },
        {
         "name": "listening_time",
         "rawType": "float64",
         "type": "float"
        },
        {
         "name": "songs_played_per_day",
         "rawType": "float64",
         "type": "float"
        },
        {
         "name": "skip_rate",
         "rawType": "float64",
         "type": "float"
        },
        {
         "name": "device_type",
         "rawType": "object",
         "type": "unknown"
        },
        {
         "name": "ads_listened_per_week",
         "rawType": "float64",
         "type": "float"
        },
        {
         "name": "offline_listening",
         "rawType": "object",
         "type": "unknown"
        },
        {
         "name": "is_churned",
         "rawType": "object",
         "type": "unknown"
        }
       ],
       "ref": "795b04bb-5b3d-48e2-ad8f-c463b306a1e2",
       "rows": [
        [
         "count",
         "8000.0",
         "8000",
         "8000.0",
         "8000",
         "8000",
         "8000.0",
         "8000.0",
         "8000.0",
         "8000",
         "8000.0",
         "8000",
         "8000"
        ],
        [
         "unique",
         null,
         "3",
         null,
         "8",
         "4",
         null,
         null,
         null,
         "3",
         null,
         "2",
         "2"
        ],
        [
         "top",
         null,
         "Male",
         null,
         "AU",
         "Premium",
         null,
         null,
         null,
         "Desktop",
         null,
         "True",
         "False"
        ],
        [
         "freq",
         null,
         "2691",
         null,
         "1034",
         "2115",
         null,
         null,
         null,
         "2778",
         null,
         "5982",
         "5929"
        ],
        [
         "mean",
         "4000.5",
         null,
         "37.662",
         null,
         null,
         "154.068",
         "50.127",
         "0.3",
         null,
         "6.944",
         null,
         null
        ],
        [
         "std",
         "2309.545",
         null,
         "12.74",
         null,
         null,
         "84.016",
         "28.45",
         "0.174",
         null,
         "13.618",
         null,
         null
        ],
        [
         "min",
         "1.0",
         null,
         "16.0",
         null,
         null,
         "10.0",
         "1.0",
         "0.0",
         null,
         "0.0",
         null,
         null
        ],
        [
         "25%",
         "2000.75",
         null,
         "26.0",
         null,
         null,
         "81.0",
         "25.0",
         "0.15",
         null,
         "0.0",
         null,
         null
        ],
        [
         "50%",
         "4000.5",
         null,
         "38.0",
         null,
         null,
         "154.0",
         "50.0",
         "0.3",
         null,
         "0.0",
         null,
         null
        ],
        [
         "75%",
         "6000.25",
         null,
         "49.0",
         null,
         null,
         "227.0",
         "75.0",
         "0.45",
         null,
         "5.0",
         null,
         null
        ],
        [
         "max",
         "8000.0",
         null,
         "59.0",
         null,
         null,
         "299.0",
         "99.0",
         "0.6",
         null,
         "49.0",
         null,
         null
        ]
       ],
       "shape": {
        "columns": 12,
        "rows": 11
       }
      },
      "text/html": [
       "<div>\n",
       "<style scoped>\n",
       "    .dataframe tbody tr th:only-of-type {\n",
       "        vertical-align: middle;\n",
       "    }\n",
       "\n",
       "    .dataframe tbody tr th {\n",
       "        vertical-align: top;\n",
       "    }\n",
       "\n",
       "    .dataframe thead th {\n",
       "        text-align: right;\n",
       "    }\n",
       "</style>\n",
       "<table border=\"1\" class=\"dataframe\">\n",
       "  <thead>\n",
       "    <tr style=\"text-align: right;\">\n",
       "      <th></th>\n",
       "      <th>user_id</th>\n",
       "      <th>gender</th>\n",
       "      <th>age</th>\n",
       "      <th>country</th>\n",
       "      <th>subscription_type</th>\n",
       "      <th>listening_time</th>\n",
       "      <th>songs_played_per_day</th>\n",
       "      <th>skip_rate</th>\n",
       "      <th>device_type</th>\n",
       "      <th>ads_listened_per_week</th>\n",
       "      <th>offline_listening</th>\n",
       "      <th>is_churned</th>\n",
       "    </tr>\n",
       "  </thead>\n",
       "  <tbody>\n",
       "    <tr>\n",
       "      <th>count</th>\n",
       "      <td>8000.000</td>\n",
       "      <td>8000</td>\n",
       "      <td>8000.000</td>\n",
       "      <td>8000</td>\n",
       "      <td>8000</td>\n",
       "      <td>8000.000</td>\n",
       "      <td>8000.000</td>\n",
       "      <td>8000.000</td>\n",
       "      <td>8000</td>\n",
       "      <td>8000.000</td>\n",
       "      <td>8000</td>\n",
       "      <td>8000</td>\n",
       "    </tr>\n",
       "    <tr>\n",
       "      <th>unique</th>\n",
       "      <td>NaN</td>\n",
       "      <td>3</td>\n",
       "      <td>NaN</td>\n",
       "      <td>8</td>\n",
       "      <td>4</td>\n",
       "      <td>NaN</td>\n",
       "      <td>NaN</td>\n",
       "      <td>NaN</td>\n",
       "      <td>3</td>\n",
       "      <td>NaN</td>\n",
       "      <td>2</td>\n",
       "      <td>2</td>\n",
       "    </tr>\n",
       "    <tr>\n",
       "      <th>top</th>\n",
       "      <td>NaN</td>\n",
       "      <td>Male</td>\n",
       "      <td>NaN</td>\n",
       "      <td>AU</td>\n",
       "      <td>Premium</td>\n",
       "      <td>NaN</td>\n",
       "      <td>NaN</td>\n",
       "      <td>NaN</td>\n",
       "      <td>Desktop</td>\n",
       "      <td>NaN</td>\n",
       "      <td>True</td>\n",
       "      <td>False</td>\n",
       "    </tr>\n",
       "    <tr>\n",
       "      <th>freq</th>\n",
       "      <td>NaN</td>\n",
       "      <td>2691</td>\n",
       "      <td>NaN</td>\n",
       "      <td>1034</td>\n",
       "      <td>2115</td>\n",
       "      <td>NaN</td>\n",
       "      <td>NaN</td>\n",
       "      <td>NaN</td>\n",
       "      <td>2778</td>\n",
       "      <td>NaN</td>\n",
       "      <td>5982</td>\n",
       "      <td>5929</td>\n",
       "    </tr>\n",
       "    <tr>\n",
       "      <th>mean</th>\n",
       "      <td>4000.500</td>\n",
       "      <td>NaN</td>\n",
       "      <td>37.662</td>\n",
       "      <td>NaN</td>\n",
       "      <td>NaN</td>\n",
       "      <td>154.068</td>\n",
       "      <td>50.127</td>\n",
       "      <td>0.300</td>\n",
       "      <td>NaN</td>\n",
       "      <td>6.944</td>\n",
       "      <td>NaN</td>\n",
       "      <td>NaN</td>\n",
       "    </tr>\n",
       "    <tr>\n",
       "      <th>std</th>\n",
       "      <td>2309.545</td>\n",
       "      <td>NaN</td>\n",
       "      <td>12.740</td>\n",
       "      <td>NaN</td>\n",
       "      <td>NaN</td>\n",
       "      <td>84.016</td>\n",
       "      <td>28.450</td>\n",
       "      <td>0.174</td>\n",
       "      <td>NaN</td>\n",
       "      <td>13.618</td>\n",
       "      <td>NaN</td>\n",
       "      <td>NaN</td>\n",
       "    </tr>\n",
       "    <tr>\n",
       "      <th>min</th>\n",
       "      <td>1.000</td>\n",
       "      <td>NaN</td>\n",
       "      <td>16.000</td>\n",
       "      <td>NaN</td>\n",
       "      <td>NaN</td>\n",
       "      <td>10.000</td>\n",
       "      <td>1.000</td>\n",
       "      <td>0.000</td>\n",
       "      <td>NaN</td>\n",
       "      <td>0.000</td>\n",
       "      <td>NaN</td>\n",
       "      <td>NaN</td>\n",
       "    </tr>\n",
       "    <tr>\n",
       "      <th>25%</th>\n",
       "      <td>2000.750</td>\n",
       "      <td>NaN</td>\n",
       "      <td>26.000</td>\n",
       "      <td>NaN</td>\n",
       "      <td>NaN</td>\n",
       "      <td>81.000</td>\n",
       "      <td>25.000</td>\n",
       "      <td>0.150</td>\n",
       "      <td>NaN</td>\n",
       "      <td>0.000</td>\n",
       "      <td>NaN</td>\n",
       "      <td>NaN</td>\n",
       "    </tr>\n",
       "    <tr>\n",
       "      <th>50%</th>\n",
       "      <td>4000.500</td>\n",
       "      <td>NaN</td>\n",
       "      <td>38.000</td>\n",
       "      <td>NaN</td>\n",
       "      <td>NaN</td>\n",
       "      <td>154.000</td>\n",
       "      <td>50.000</td>\n",
       "      <td>0.300</td>\n",
       "      <td>NaN</td>\n",
       "      <td>0.000</td>\n",
       "      <td>NaN</td>\n",
       "      <td>NaN</td>\n",
       "    </tr>\n",
       "    <tr>\n",
       "      <th>75%</th>\n",
       "      <td>6000.250</td>\n",
       "      <td>NaN</td>\n",
       "      <td>49.000</td>\n",
       "      <td>NaN</td>\n",
       "      <td>NaN</td>\n",
       "      <td>227.000</td>\n",
       "      <td>75.000</td>\n",
       "      <td>0.450</td>\n",
       "      <td>NaN</td>\n",
       "      <td>5.000</td>\n",
       "      <td>NaN</td>\n",
       "      <td>NaN</td>\n",
       "    </tr>\n",
       "    <tr>\n",
       "      <th>max</th>\n",
       "      <td>8000.000</td>\n",
       "      <td>NaN</td>\n",
       "      <td>59.000</td>\n",
       "      <td>NaN</td>\n",
       "      <td>NaN</td>\n",
       "      <td>299.000</td>\n",
       "      <td>99.000</td>\n",
       "      <td>0.600</td>\n",
       "      <td>NaN</td>\n",
       "      <td>49.000</td>\n",
       "      <td>NaN</td>\n",
       "      <td>NaN</td>\n",
       "    </tr>\n",
       "  </tbody>\n",
       "</table>\n",
       "</div>"
      ],
      "text/plain": [
       "         user_id gender       age country subscription_type  listening_time  \\\n",
       "count   8000.000   8000  8000.000    8000              8000        8000.000   \n",
       "unique       NaN      3       NaN       8                 4             NaN   \n",
       "top          NaN   Male       NaN      AU           Premium             NaN   \n",
       "freq         NaN   2691       NaN    1034              2115             NaN   \n",
       "mean    4000.500    NaN    37.662     NaN               NaN         154.068   \n",
       "std     2309.545    NaN    12.740     NaN               NaN          84.016   \n",
       "min        1.000    NaN    16.000     NaN               NaN          10.000   \n",
       "25%     2000.750    NaN    26.000     NaN               NaN          81.000   \n",
       "50%     4000.500    NaN    38.000     NaN               NaN         154.000   \n",
       "75%     6000.250    NaN    49.000     NaN               NaN         227.000   \n",
       "max     8000.000    NaN    59.000     NaN               NaN         299.000   \n",
       "\n",
       "        songs_played_per_day  skip_rate device_type  ads_listened_per_week  \\\n",
       "count               8000.000   8000.000        8000               8000.000   \n",
       "unique                   NaN        NaN           3                    NaN   \n",
       "top                      NaN        NaN     Desktop                    NaN   \n",
       "freq                     NaN        NaN        2778                    NaN   \n",
       "mean                  50.127      0.300         NaN                  6.944   \n",
       "std                   28.450      0.174         NaN                 13.618   \n",
       "min                    1.000      0.000         NaN                  0.000   \n",
       "25%                   25.000      0.150         NaN                  0.000   \n",
       "50%                   50.000      0.300         NaN                  0.000   \n",
       "75%                   75.000      0.450         NaN                  5.000   \n",
       "max                   99.000      0.600         NaN                 49.000   \n",
       "\n",
       "       offline_listening is_churned  \n",
       "count               8000       8000  \n",
       "unique                 2          2  \n",
       "top                 True      False  \n",
       "freq                5982       5929  \n",
       "mean                 NaN        NaN  \n",
       "std                  NaN        NaN  \n",
       "min                  NaN        NaN  \n",
       "25%                  NaN        NaN  \n",
       "50%                  NaN        NaN  \n",
       "75%                  NaN        NaN  \n",
       "max                  NaN        NaN  "
      ]
     },
     "execution_count": 114,
     "metadata": {},
     "output_type": "execute_result"
    }
   ],
   "source": [
    "df.describe(include='all').round(3)"
   ]
  },
  {
   "cell_type": "code",
   "execution_count": 115,
   "id": "5eab0cc0",
   "metadata": {},
   "outputs": [
    {
     "data": {
      "application/vnd.microsoft.datawrangler.viewer.v0+json": {
       "columns": [
        {
         "name": "index",
         "rawType": "object",
         "type": "string"
        },
        {
         "name": "0",
         "rawType": "object",
         "type": "unknown"
        }
       ],
       "ref": "3c8ee777-7b54-4796-b9e3-eb0e1bf70449",
       "rows": [
        [
         "user_id",
         "int64"
        ],
        [
         "gender",
         "category"
        ],
        [
         "age",
         "int64"
        ],
        [
         "country",
         "category"
        ],
        [
         "subscription_type",
         "category"
        ],
        [
         "listening_time",
         "int64"
        ],
        [
         "songs_played_per_day",
         "int64"
        ],
        [
         "skip_rate",
         "float64"
        ],
        [
         "device_type",
         "category"
        ],
        [
         "ads_listened_per_week",
         "int64"
        ],
        [
         "offline_listening",
         "bool"
        ],
        [
         "is_churned",
         "bool"
        ]
       ],
       "shape": {
        "columns": 1,
        "rows": 12
       }
      },
      "text/plain": [
       "user_id                     int64\n",
       "gender                   category\n",
       "age                         int64\n",
       "country                  category\n",
       "subscription_type        category\n",
       "listening_time              int64\n",
       "songs_played_per_day        int64\n",
       "skip_rate                 float64\n",
       "device_type              category\n",
       "ads_listened_per_week       int64\n",
       "offline_listening            bool\n",
       "is_churned                   bool\n",
       "dtype: object"
      ]
     },
     "execution_count": 115,
     "metadata": {},
     "output_type": "execute_result"
    }
   ],
   "source": [
    "df.dtypes"
   ]
  },
  {
   "cell_type": "markdown",
   "id": "a653929d",
   "metadata": {},
   "source": [
    "Splitting data into different variables [categorical, numerical, boolean, target]"
   ]
  },
  {
   "cell_type": "code",
   "execution_count": 116,
   "id": "961c38a2",
   "metadata": {},
   "outputs": [],
   "source": [
    "categorical = ['gender', 'country', 'subscription_type', 'device_type']\n",
    "numerical = ['age', 'listening_time', 'songs_played_per_day', 'skip_rate', 'ads_listened_per_week']\n",
    "boolean = ['offline_listening']\n",
    "to_delete = ['user_id']\n",
    "\n",
    "target = ['is_churned']"
   ]
  },
  {
   "cell_type": "code",
   "execution_count": 117,
   "id": "3991eb35",
   "metadata": {},
   "outputs": [
    {
     "name": "stdout",
     "output_type": "stream",
     "text": [
      "<class 'pandas.core.frame.DataFrame'>\n",
      "RangeIndex: 8000 entries, 0 to 7999\n",
      "Data columns (total 12 columns):\n",
      " #   Column                 Non-Null Count  Dtype   \n",
      "---  ------                 --------------  -----   \n",
      " 0   user_id                8000 non-null   int64   \n",
      " 1   gender                 8000 non-null   category\n",
      " 2   age                    8000 non-null   int64   \n",
      " 3   country                8000 non-null   category\n",
      " 4   subscription_type      8000 non-null   category\n",
      " 5   listening_time         8000 non-null   int64   \n",
      " 6   songs_played_per_day   8000 non-null   int64   \n",
      " 7   skip_rate              8000 non-null   float64 \n",
      " 8   device_type            8000 non-null   category\n",
      " 9   ads_listened_per_week  8000 non-null   int64   \n",
      " 10  offline_listening      8000 non-null   bool    \n",
      " 11  is_churned             8000 non-null   bool    \n",
      "dtypes: bool(2), category(4), float64(1), int64(5)\n",
      "memory usage: 422.8 KB\n"
     ]
    }
   ],
   "source": [
    "df.info()"
   ]
  },
  {
   "cell_type": "code",
   "execution_count": 118,
   "id": "f2911bdd",
   "metadata": {},
   "outputs": [
    {
     "data": {
      "application/vnd.microsoft.datawrangler.viewer.v0+json": {
       "columns": [
        {
         "name": "index",
         "rawType": "object",
         "type": "string"
        },
        {
         "name": "gender",
         "rawType": "object",
         "type": "unknown"
        },
        {
         "name": "country",
         "rawType": "object",
         "type": "unknown"
        },
        {
         "name": "subscription_type",
         "rawType": "object",
         "type": "unknown"
        },
        {
         "name": "device_type",
         "rawType": "object",
         "type": "unknown"
        }
       ],
       "ref": "bee7af7d-be5d-498a-af1f-079bdde07b5d",
       "rows": [
        [
         "count",
         "8000",
         "8000",
         "8000",
         "8000"
        ],
        [
         "unique",
         "3",
         "8",
         "4",
         "3"
        ],
        [
         "top",
         "Male",
         "AU",
         "Premium",
         "Desktop"
        ],
        [
         "freq",
         "2691",
         "1034",
         "2115",
         "2778"
        ]
       ],
       "shape": {
        "columns": 4,
        "rows": 4
       }
      },
      "text/html": [
       "<div>\n",
       "<style scoped>\n",
       "    .dataframe tbody tr th:only-of-type {\n",
       "        vertical-align: middle;\n",
       "    }\n",
       "\n",
       "    .dataframe tbody tr th {\n",
       "        vertical-align: top;\n",
       "    }\n",
       "\n",
       "    .dataframe thead th {\n",
       "        text-align: right;\n",
       "    }\n",
       "</style>\n",
       "<table border=\"1\" class=\"dataframe\">\n",
       "  <thead>\n",
       "    <tr style=\"text-align: right;\">\n",
       "      <th></th>\n",
       "      <th>gender</th>\n",
       "      <th>country</th>\n",
       "      <th>subscription_type</th>\n",
       "      <th>device_type</th>\n",
       "    </tr>\n",
       "  </thead>\n",
       "  <tbody>\n",
       "    <tr>\n",
       "      <th>count</th>\n",
       "      <td>8000</td>\n",
       "      <td>8000</td>\n",
       "      <td>8000</td>\n",
       "      <td>8000</td>\n",
       "    </tr>\n",
       "    <tr>\n",
       "      <th>unique</th>\n",
       "      <td>3</td>\n",
       "      <td>8</td>\n",
       "      <td>4</td>\n",
       "      <td>3</td>\n",
       "    </tr>\n",
       "    <tr>\n",
       "      <th>top</th>\n",
       "      <td>Male</td>\n",
       "      <td>AU</td>\n",
       "      <td>Premium</td>\n",
       "      <td>Desktop</td>\n",
       "    </tr>\n",
       "    <tr>\n",
       "      <th>freq</th>\n",
       "      <td>2691</td>\n",
       "      <td>1034</td>\n",
       "      <td>2115</td>\n",
       "      <td>2778</td>\n",
       "    </tr>\n",
       "  </tbody>\n",
       "</table>\n",
       "</div>"
      ],
      "text/plain": [
       "       gender country subscription_type device_type\n",
       "count    8000    8000              8000        8000\n",
       "unique      3       8                 4           3\n",
       "top      Male      AU           Premium     Desktop\n",
       "freq     2691    1034              2115        2778"
      ]
     },
     "execution_count": 118,
     "metadata": {},
     "output_type": "execute_result"
    }
   ],
   "source": [
    "df[categorical].describe()"
   ]
  },
  {
   "cell_type": "code",
   "execution_count": 119,
   "id": "65688679",
   "metadata": {},
   "outputs": [
    {
     "name": "stdout",
     "output_type": "stream",
     "text": [
      "\n",
      "Feature name: gender\n",
      "\n",
      "        count  percent [%]\n",
      "gender                    \n",
      "Male     2691           34\n",
      "Female   2659           33\n",
      "Other    2650           33\n",
      "\n",
      "Feature name: country\n",
      "\n",
      "         count  percent [%]\n",
      "country                    \n",
      "AU        1034           13\n",
      "US        1032           13\n",
      "DE        1015           13\n",
      "IN        1011           13\n",
      "PK         999           12\n",
      "FR         989           12\n",
      "UK         966           12\n",
      "CA         954           12\n",
      "\n",
      "Feature name: subscription_type\n",
      "\n",
      "                   count  percent [%]\n",
      "subscription_type                    \n",
      "Premium             2115           26\n",
      "Free                2018           25\n",
      "Student             1959           24\n",
      "Family              1908           24\n",
      "\n",
      "Feature name: device_type\n",
      "\n",
      "             count  percent [%]\n",
      "device_type                    \n",
      "Desktop       2778           35\n",
      "Web           2623           33\n",
      "Mobile        2599           32\n"
     ]
    }
   ],
   "source": [
    "futher_info = {}\n",
    "\n",
    "for col in categorical:\n",
    "    count = []\n",
    "    percent = []\n",
    "    \n",
    "    count = df[col].value_counts(dropna=False)\n",
    "    percent = ((count / len(df)) * 100).round(0).astype(int)\n",
    "    \n",
    "    futher_info[col] = pd.DataFrame({\n",
    "        'count' : count,\n",
    "        'percent [%]' : percent\n",
    "    })\n",
    "\n",
    "for col, row in futher_info.items():\n",
    "    print(f'\\nFeature name: {col}\\n')\n",
    "    print(row)"
   ]
  },
  {
   "cell_type": "markdown",
   "id": "44a25561",
   "metadata": {},
   "source": [
    "- **gender** (3 categories)  \n",
    "  - Top: **Male** — **2,691 / 8,000 ~ 34%**.\n",
    "\n",
    "- **country** (8 categories)  \n",
    "  - Top: **AU** — **1,034 / 8,000 ~ 13%**.  \n",
    "  - Takeaway: countries are diverse; no single country is dominant.\n",
    "\n",
    "- **subscription_type** (4 categories)  \n",
    "  - Top: **Premium** — **2,115 / 8,000 ~ 26%** (~1 in 4 users).  \n",
    "\n",
    "- **device_type** (3 categories)  \n",
    "  - Top: **Desktop** — **2,778 / 8,000 ~ 35%**.  \n",
    "  - Takeaway: desktop is the most common single device, but not a majority.\n",
    "\n",
    "**Overall:** Categorical variables look fairly distributed (no extreme class imbalance at first glance).\n"
   ]
  },
  {
   "cell_type": "code",
   "execution_count": 120,
   "id": "14ff0113",
   "metadata": {},
   "outputs": [
    {
     "data": {
      "image/png": "[encoded data removed]",
      "text/plain": [
       "<Figure size 1500x400 with 4 Axes>"
      ]
     },
     "metadata": {},
     "output_type": "display_data"
    }
   ],
   "source": [
    "fig, axes = plt.subplots(1, len(categorical), figsize=(15, 4))\n",
    "axes = axes.flatten()\n",
    "\n",
    "for i, category in enumerate(df[categorical]):\n",
    "    \n",
    "    counts = df[category].value_counts()\n",
    "    values = counts.values\n",
    "    labels = counts.index\n",
    "    \n",
    "    colors = sns.color_palette(\"Blues\", n_colors=len(values))   # albo: \"tab20\", \"Set2\", \"Paired\"\n",
    "    \n",
    "    ax = axes[i]\n",
    "    ax.pie(values, labels=labels, colors=colors, autopct='%.0f%%')\n",
    "    ax.set_title(f'{category}')\n",
    "\n",
    "plt.show()"
   ]
  },
  {
   "cell_type": "code",
   "execution_count": 121,
   "id": "136e48be",
   "metadata": {},
   "outputs": [
    {
     "data": {
      "application/vnd.microsoft.datawrangler.viewer.v0+json": {
       "columns": [
        {
         "name": "index",
         "rawType": "object",
         "type": "string"
        },
        {
         "name": "age",
         "rawType": "float64",
         "type": "float"
        },
        {
         "name": "listening_time",
         "rawType": "float64",
         "type": "float"
        },
        {
         "name": "songs_played_per_day",
         "rawType": "float64",
         "type": "float"
        },
        {
         "name": "skip_rate",
         "rawType": "float64",
         "type": "float"
        },
        {
         "name": "ads_listened_per_week",
         "rawType": "float64",
         "type": "float"
        }
       ],
       "ref": "3da1c4d0-54a1-4169-afcd-7a22545ed339",
       "rows": [
        [
         "count",
         "8000.0",
         "8000.0",
         "8000.0",
         "8000.0",
         "8000.0"
        ],
        [
         "mean",
         "37.662",
         "154.068",
         "50.127",
         "0.3",
         "6.944"
        ],
        [
         "std",
         "12.74",
         "84.016",
         "28.45",
         "0.174",
         "13.618"
        ],
        [
         "min",
         "16.0",
         "10.0",
         "1.0",
         "0.0",
         "0.0"
        ],
        [
         "25%",
         "26.0",
         "81.0",
         "25.0",
         "0.15",
         "0.0"
        ],
        [
         "50%",
         "38.0",
         "154.0",
         "50.0",
         "0.3",
         "0.0"
        ],
        [
         "75%",
         "49.0",
         "227.0",
         "75.0",
         "0.45",
         "5.0"
        ],
        [
         "max",
         "59.0",
         "299.0",
         "99.0",
         "0.6",
         "49.0"
        ]
       ],
       "shape": {
        "columns": 5,
        "rows": 8
       }
      },
      "text/html": [
       "<div>\n",
       "<style scoped>\n",
       "    .dataframe tbody tr th:only-of-type {\n",
       "        vertical-align: middle;\n",
       "    }\n",
       "\n",
       "    .dataframe tbody tr th {\n",
       "        vertical-align: top;\n",
       "    }\n",
       "\n",
       "    .dataframe thead th {\n",
       "        text-align: right;\n",
       "    }\n",
       "</style>\n",
       "<table border=\"1\" class=\"dataframe\">\n",
       "  <thead>\n",
       "    <tr style=\"text-align: right;\">\n",
       "      <th></th>\n",
       "      <th>age</th>\n",
       "      <th>listening_time</th>\n",
       "      <th>songs_played_per_day</th>\n",
       "      <th>skip_rate</th>\n",
       "      <th>ads_listened_per_week</th>\n",
       "    </tr>\n",
       "  </thead>\n",
       "  <tbody>\n",
       "    <tr>\n",
       "      <th>count</th>\n",
       "      <td>8000.000</td>\n",
       "      <td>8000.000</td>\n",
       "      <td>8000.000</td>\n",
       "      <td>8000.000</td>\n",
       "      <td>8000.000</td>\n",
       "    </tr>\n",
       "    <tr>\n",
       "      <th>mean</th>\n",
       "      <td>37.662</td>\n",
       "      <td>154.068</td>\n",
       "      <td>50.127</td>\n",
       "      <td>0.300</td>\n",
       "      <td>6.944</td>\n",
       "    </tr>\n",
       "    <tr>\n",
       "      <th>std</th>\n",
       "      <td>12.740</td>\n",
       "      <td>84.016</td>\n",
       "      <td>28.450</td>\n",
       "      <td>0.174</td>\n",
       "      <td>13.618</td>\n",
       "    </tr>\n",
       "    <tr>\n",
       "      <th>min</th>\n",
       "      <td>16.000</td>\n",
       "      <td>10.000</td>\n",
       "      <td>1.000</td>\n",
       "      <td>0.000</td>\n",
       "      <td>0.000</td>\n",
       "    </tr>\n",
       "    <tr>\n",
       "      <th>25%</th>\n",
       "      <td>26.000</td>\n",
       "      <td>81.000</td>\n",
       "      <td>25.000</td>\n",
       "      <td>0.150</td>\n",
       "      <td>0.000</td>\n",
       "    </tr>\n",
       "    <tr>\n",
       "      <th>50%</th>\n",
       "      <td>38.000</td>\n",
       "      <td>154.000</td>\n",
       "      <td>50.000</td>\n",
       "      <td>0.300</td>\n",
       "      <td>0.000</td>\n",
       "    </tr>\n",
       "    <tr>\n",
       "      <th>75%</th>\n",
       "      <td>49.000</td>\n",
       "      <td>227.000</td>\n",
       "      <td>75.000</td>\n",
       "      <td>0.450</td>\n",
       "      <td>5.000</td>\n",
       "    </tr>\n",
       "    <tr>\n",
       "      <th>max</th>\n",
       "      <td>59.000</td>\n",
       "      <td>299.000</td>\n",
       "      <td>99.000</td>\n",
       "      <td>0.600</td>\n",
       "      <td>49.000</td>\n",
       "    </tr>\n",
       "  </tbody>\n",
       "</table>\n",
       "</div>"
      ],
      "text/plain": [
       "            age  listening_time  songs_played_per_day  skip_rate  \\\n",
       "count  8000.000        8000.000              8000.000   8000.000   \n",
       "mean     37.662         154.068                50.127      0.300   \n",
       "std      12.740          84.016                28.450      0.174   \n",
       "min      16.000          10.000                 1.000      0.000   \n",
       "25%      26.000          81.000                25.000      0.150   \n",
       "50%      38.000         154.000                50.000      0.300   \n",
       "75%      49.000         227.000                75.000      0.450   \n",
       "max      59.000         299.000                99.000      0.600   \n",
       "\n",
       "       ads_listened_per_week  \n",
       "count               8000.000  \n",
       "mean                   6.944  \n",
       "std                   13.618  \n",
       "min                    0.000  \n",
       "25%                    0.000  \n",
       "50%                    0.000  \n",
       "75%                    5.000  \n",
       "max                   49.000  "
      ]
     },
     "execution_count": 121,
     "metadata": {},
     "output_type": "execute_result"
    }
   ],
   "source": [
    "df[numerical].describe().round(3)"
   ]
  },
  {
   "cell_type": "markdown",
   "id": "a8566202",
   "metadata": {},
   "source": [
    "- **Age**\n",
    "  - Avg **37.7** (median **38.0**); half of users **26–49** (IQR).\n",
    "  - Roughly **25–50** covers most people (*mean +- std*).\n",
    "  - Range **16–59**;\n",
    "\n",
    "- **Listening time (min/day)**\n",
    "  - Avg **~154 min** (~2.5 h); median **154**.\n",
    "  - Half are **81–227 min**; about **70–238 min** (*mean +- std*) -> big spread.\n",
    "\n",
    "- **Songs played per day**\n",
    "  - Avg **~50** (median **50**).\n",
    "  - Half are **25–75**; about **22–79** (*mean +- std*) → also wide.\n",
    "\n",
    "- **Skip rate**\n",
    "  - Avg **0.30** -> **1 in 3** tracks skipped.\n",
    "  - Typical user: **0.15–0.45** (Q1–Q3); values within **0–0.6**.\n",
    "\n",
    "- **Ads listened per week**\n",
    "  - **Median 0**, **Q3=5**, avg **6.9**, max **49**.\n",
    "  - Without sybscription maximum ads listening per week is 49\n",
    "  \n",
    "**Overall:** Most columns look roughly symmetric (**mean ~ median**). The only clearly skewed one is **ads_listened_per_week** there might be outliers.\n",
    "\n",
    "> *Note:* “mean +- std” roughly covers ~68% of values if the distribution is not too skewed.\n"
   ]
  },
  {
   "cell_type": "code",
   "execution_count": 122,
   "id": "3f21d7e6",
   "metadata": {},
   "outputs": [
    {
     "data": {
      "image/png": "[encoded data removed]",
      "text/plain": [
       "<Figure size 1500x400 with 2 Axes>"
      ]
     },
     "metadata": {},
     "output_type": "display_data"
    }
   ],
   "source": [
    "fig, (ax1, ax2) = plt.subplots(1, 2, figsize=(15, 4))\n",
    "\n",
    "sns.boxplot(y=df['ads_listened_per_week'], ax=ax1)\n",
    "ax1.set_title('All users')\n",
    "ax1.set_ylabel('Ads listened per week')\n",
    "\n",
    "df_sub_free = df[df['subscription_type'] =='Free'].copy()\n",
    "sns.boxplot(y=df_sub_free['ads_listened_per_week'], ax=ax2)\n",
    "ax2.set_title('Users [free]')\n",
    "ax2.set_ylabel('Ads listened per week')\n",
    "\n",
    "plt.show()"
   ]
  },
  {
   "cell_type": "code",
   "execution_count": 123,
   "id": "56483b50",
   "metadata": {},
   "outputs": [
    {
     "name": "stdout",
     "output_type": "stream",
     "text": [
      "thresholds: -8.5, 83.5\n",
      "Number of outliers for age = 0 which is 0%\n",
      "------------------------------------------------------------------\n",
      "thresholds: -138.0, 446.0\n",
      "Number of outliers for listening_time = 0 which is 0%\n",
      "------------------------------------------------------------------\n",
      "thresholds: -50.0, 150.0\n",
      "Number of outliers for songs_played_per_day = 0 which is 0%\n",
      "------------------------------------------------------------------\n",
      "thresholds: -0.3, 0.9\n",
      "Number of outliers for skip_rate = 0 which is 0%\n",
      "------------------------------------------------------------------\n",
      "thresholds: -7.5, 12.5\n",
      "Number of outliers for ads_listened_per_week = 1683 which is 21%\n",
      "------------------------------------------------------------------\n",
      "thresholds: -18.5, 73.5\n",
      "Number of outliers for ads_listened_per_week = 0 which is 0%\n",
      "------------------------------------------------------------------\n"
     ]
    }
   ],
   "source": [
    "for col in df[numerical]:\n",
    "    \n",
    "    Q1 = df[col].quantile(0.25)\n",
    "    Q3 = df[col].quantile(0.75)\n",
    "    IQR = Q3 - Q1\n",
    "    low, high = Q1 - 1.5 * IQR, Q3 + 1.5 * IQR\n",
    "\n",
    "    outliers = (df[col] < low) | (df[col] > high)\n",
    "    n = outliers.sum()\n",
    "    percent = int((n / len(df)) * 100)\n",
    "\n",
    "    print(f\"thresholds: {low:.1f}, {high:.1f}\")\n",
    "    print(f'Number of outliers for {col} = {n} which is {percent}%')\n",
    "    print('------------------------------------------------------------------')\n",
    " \n",
    "col = 'ads_listened_per_week'   \n",
    "Q1 = df_sub_free[col].quantile(0.25)\n",
    "Q3 = df_sub_free[col].quantile(0.75)\n",
    "IQR = Q3 - Q1\n",
    "low, high = Q1 - 1.5 * IQR, Q3 + 1.5 * IQR\n",
    "\n",
    "outliers = (df_sub_free[col] < low) | (df_sub_free[col] > high)\n",
    "n = outliers.sum()\n",
    "percent = int((n / len(df_sub_free)) * 100)\n",
    "\n",
    "print(f\"thresholds: {low:.1f}, {high:.1f}\")\n",
    "print(f'Number of outliers for {col} = {n} which is {percent}%')\n",
    "print('------------------------------------------------------------------')"
   ]
  },
  {
   "cell_type": "code",
   "execution_count": 124,
   "id": "abdfe771",
   "metadata": {},
   "outputs": [
    {
     "data": {
      "image/png": "[encoded data removed]",
      "text/plain": [
       "<Figure size 1500x700 with 6 Axes>"
      ]
     },
     "metadata": {},
     "output_type": "display_data"
    }
   ],
   "source": [
    "fig, axes = plt.subplots(2, int(len(numerical + boolean) / 2), figsize=(15, 7))\n",
    "axes = axes.flatten()\n",
    "\n",
    "cols = numerical + boolean\n",
    "\n",
    "\n",
    "for i, col in enumerate(cols):\n",
    "    s = df[col].dropna()\n",
    "\n",
    "    sns.histplot(s, edgecolor='black', ax=axes[i])\n",
    "    axes[i].axvline(s.mean(),   linestyle='--', color='red',  linewidth=1.5, label='mean')\n",
    "    axes[i].axvline(s.median(), linestyle='-.', color='blue', linewidth=1.5, label='median')\n",
    "    axes[i].set_title(col)\n",
    "    axes[i].set_xlabel(col)\n",
    "    axes[i].set_ylabel('count')\n",
    "    axes[i].legend()\n",
    "    \n",
    "plt.tight_layout()\n",
    "plt.show()\n"
   ]
  },
  {
   "cell_type": "markdown",
   "id": "924d73aa",
   "metadata": {},
   "source": [
    "That confirms earlier observations"
   ]
  },
  {
   "cell_type": "code",
   "execution_count": 125,
   "id": "82865328",
   "metadata": {},
   "outputs": [
    {
     "data": {
      "application/vnd.microsoft.datawrangler.viewer.v0+json": {
       "columns": [
        {
         "name": "index",
         "rawType": "object",
         "type": "string"
        },
        {
         "name": "is_churned",
         "rawType": "object",
         "type": "unknown"
        }
       ],
       "ref": "d2bca8dc-3371-43e6-99f0-ac8323650fb2",
       "rows": [
        [
         "count",
         "8000"
        ],
        [
         "unique",
         "2"
        ],
        [
         "top",
         "False"
        ],
        [
         "freq",
         "5929"
        ]
       ],
       "shape": {
        "columns": 1,
        "rows": 4
       }
      },
      "text/html": [
       "<div>\n",
       "<style scoped>\n",
       "    .dataframe tbody tr th:only-of-type {\n",
       "        vertical-align: middle;\n",
       "    }\n",
       "\n",
       "    .dataframe tbody tr th {\n",
       "        vertical-align: top;\n",
       "    }\n",
       "\n",
       "    .dataframe thead th {\n",
       "        text-align: right;\n",
       "    }\n",
       "</style>\n",
       "<table border=\"1\" class=\"dataframe\">\n",
       "  <thead>\n",
       "    <tr style=\"text-align: right;\">\n",
       "      <th></th>\n",
       "      <th>is_churned</th>\n",
       "    </tr>\n",
       "  </thead>\n",
       "  <tbody>\n",
       "    <tr>\n",
       "      <th>count</th>\n",
       "      <td>8000</td>\n",
       "    </tr>\n",
       "    <tr>\n",
       "      <th>unique</th>\n",
       "      <td>2</td>\n",
       "    </tr>\n",
       "    <tr>\n",
       "      <th>top</th>\n",
       "      <td>False</td>\n",
       "    </tr>\n",
       "    <tr>\n",
       "      <th>freq</th>\n",
       "      <td>5929</td>\n",
       "    </tr>\n",
       "  </tbody>\n",
       "</table>\n",
       "</div>"
      ],
      "text/plain": [
       "       is_churned\n",
       "count        8000\n",
       "unique          2\n",
       "top         False\n",
       "freq         5929"
      ]
     },
     "execution_count": 125,
     "metadata": {},
     "output_type": "execute_result"
    }
   ],
   "source": [
    "df[target].describe()"
   ]
  },
  {
   "cell_type": "code",
   "execution_count": 126,
   "id": "e22ef68b",
   "metadata": {},
   "outputs": [
    {
     "data": {
      "text/plain": [
       "['gender', 'country', 'subscription_type', 'device_type']"
      ]
     },
     "execution_count": 126,
     "metadata": {},
     "output_type": "execute_result"
    }
   ],
   "source": [
    "categorical"
   ]
  },
  {
   "cell_type": "code",
   "execution_count": 127,
   "id": "436833d9",
   "metadata": {},
   "outputs": [
    {
     "data": {
      "text/plain": [
       "['is_churned']"
      ]
     },
     "execution_count": 127,
     "metadata": {},
     "output_type": "execute_result"
    }
   ],
   "source": [
    "target"
   ]
  },
  {
   "cell_type": "code",
   "execution_count": 128,
   "id": "89885ae5",
   "metadata": {},
   "outputs": [
    {
     "data": {
      "text/plain": [
       "<matplotlib.legend.Legend at 0x1c7eeb45f90>"
      ]
     },
     "execution_count": 128,
     "metadata": {},
     "output_type": "execute_result"
    },
    {
     "data": {
      "image/png": "[encoded data removed]",
      "text/plain": [
       "<Figure size 640x480 with 1 Axes>"
      ]
     },
     "metadata": {},
     "output_type": "display_data"
    }
   ],
   "source": [
    "sns.countplot(x='is_churned', data=df, palette='Blues')\n",
    "plt.title(f'Distribution feature {target}')\n",
    "plt.xlabel('')\n",
    "plt.legend(labels=['Active','Churned'])"
   ]
  },
  {
   "cell_type": "markdown",
   "id": "7cf9a698",
   "metadata": {},
   "source": [
    "Statistics for True and False on target feature"
   ]
  },
  {
   "cell_type": "code",
   "execution_count": 129,
   "id": "ca4719a6",
   "metadata": {},
   "outputs": [
    {
     "data": {
      "application/vnd.microsoft.datawrangler.viewer.v0+json": {
       "columns": [
        {
         "name": "index",
         "rawType": "object",
         "type": "string"
        },
        {
         "name": "False",
         "rawType": "float64",
         "type": "float"
        },
        {
         "name": "True",
         "rawType": "float64",
         "type": "float"
        }
       ],
       "ref": "4f80a41e-8231-4416-aba5-3a76b0fca0f6",
       "rows": [
        [
         "age : mean",
         "37.632",
         "37.748"
        ],
        [
         "age : median",
         "38.0",
         "38.0"
        ],
        [
         "age : std",
         "12.763",
         "12.677"
        ],
        [
         "listening_time : mean",
         "154.447",
         "152.985"
        ],
        [
         "listening_time : median",
         "155.0",
         "153.0"
        ],
        [
         "listening_time : std",
         "84.323",
         "83.139"
        ],
        [
         "songs_played_per_day : mean",
         "49.971",
         "50.576"
        ],
        [
         "songs_played_per_day : median",
         "50.0",
         "52.0"
        ],
        [
         "songs_played_per_day : std",
         "28.48",
         "28.364"
        ],
        [
         "skip_rate : mean",
         "0.298",
         "0.305"
        ],
        [
         "skip_rate : median",
         "0.3",
         "0.31"
        ],
        [
         "skip_rate : std",
         "0.173",
         "0.174"
        ],
        [
         "ads_listened_per_week : mean",
         "6.962",
         "6.891"
        ],
        [
         "ads_listened_per_week : median",
         "0.0",
         "0.0"
        ],
        [
         "ads_listened_per_week : std",
         "13.581",
         "13.725"
        ]
       ],
       "shape": {
        "columns": 2,
        "rows": 15
       }
      },
      "text/html": [
       "<div>\n",
       "<style scoped>\n",
       "    .dataframe tbody tr th:only-of-type {\n",
       "        vertical-align: middle;\n",
       "    }\n",
       "\n",
       "    .dataframe tbody tr th {\n",
       "        vertical-align: top;\n",
       "    }\n",
       "\n",
       "    .dataframe thead th {\n",
       "        text-align: right;\n",
       "    }\n",
       "</style>\n",
       "<table border=\"1\" class=\"dataframe\">\n",
       "  <thead>\n",
       "    <tr style=\"text-align: right;\">\n",
       "      <th>is_churned</th>\n",
       "      <th>False</th>\n",
       "      <th>True</th>\n",
       "    </tr>\n",
       "  </thead>\n",
       "  <tbody>\n",
       "    <tr>\n",
       "      <th>age : mean</th>\n",
       "      <td>37.632</td>\n",
       "      <td>37.748</td>\n",
       "    </tr>\n",
       "    <tr>\n",
       "      <th>age : median</th>\n",
       "      <td>38.000</td>\n",
       "      <td>38.000</td>\n",
       "    </tr>\n",
       "    <tr>\n",
       "      <th>age : std</th>\n",
       "      <td>12.763</td>\n",
       "      <td>12.677</td>\n",
       "    </tr>\n",
       "    <tr>\n",
       "      <th>listening_time : mean</th>\n",
       "      <td>154.447</td>\n",
       "      <td>152.985</td>\n",
       "    </tr>\n",
       "    <tr>\n",
       "      <th>listening_time : median</th>\n",
       "      <td>155.000</td>\n",
       "      <td>153.000</td>\n",
       "    </tr>\n",
       "    <tr>\n",
       "      <th>listening_time : std</th>\n",
       "      <td>84.323</td>\n",
       "      <td>83.139</td>\n",
       "    </tr>\n",
       "    <tr>\n",
       "      <th>songs_played_per_day : mean</th>\n",
       "      <td>49.971</td>\n",
       "      <td>50.576</td>\n",
       "    </tr>\n",
       "    <tr>\n",
       "      <th>songs_played_per_day : median</th>\n",
       "      <td>50.000</td>\n",
       "      <td>52.000</td>\n",
       "    </tr>\n",
       "    <tr>\n",
       "      <th>songs_played_per_day : std</th>\n",
       "      <td>28.480</td>\n",
       "      <td>28.364</td>\n",
       "    </tr>\n",
       "    <tr>\n",
       "      <th>skip_rate : mean</th>\n",
       "      <td>0.298</td>\n",
       "      <td>0.305</td>\n",
       "    </tr>\n",
       "    <tr>\n",
       "      <th>skip_rate : median</th>\n",
       "      <td>0.300</td>\n",
       "      <td>0.310</td>\n",
       "    </tr>\n",
       "    <tr>\n",
       "      <th>skip_rate : std</th>\n",
       "      <td>0.173</td>\n",
       "      <td>0.174</td>\n",
       "    </tr>\n",
       "    <tr>\n",
       "      <th>ads_listened_per_week : mean</th>\n",
       "      <td>6.962</td>\n",
       "      <td>6.891</td>\n",
       "    </tr>\n",
       "    <tr>\n",
       "      <th>ads_listened_per_week : median</th>\n",
       "      <td>0.000</td>\n",
       "      <td>0.000</td>\n",
       "    </tr>\n",
       "    <tr>\n",
       "      <th>ads_listened_per_week : std</th>\n",
       "      <td>13.581</td>\n",
       "      <td>13.725</td>\n",
       "    </tr>\n",
       "  </tbody>\n",
       "</table>\n",
       "</div>"
      ],
      "text/plain": [
       "is_churned                        False    True \n",
       "age : mean                       37.632   37.748\n",
       "age : median                     38.000   38.000\n",
       "age : std                        12.763   12.677\n",
       "listening_time : mean           154.447  152.985\n",
       "listening_time : median         155.000  153.000\n",
       "listening_time : std             84.323   83.139\n",
       "songs_played_per_day : mean      49.971   50.576\n",
       "songs_played_per_day : median    50.000   52.000\n",
       "songs_played_per_day : std       28.480   28.364\n",
       "skip_rate : mean                  0.298    0.305\n",
       "skip_rate : median                0.300    0.310\n",
       "skip_rate : std                   0.173    0.174\n",
       "ads_listened_per_week : mean      6.962    6.891\n",
       "ads_listened_per_week : median    0.000    0.000\n",
       "ads_listened_per_week : std      13.581   13.725"
      ]
     },
     "execution_count": 129,
     "metadata": {},
     "output_type": "execute_result"
    }
   ],
   "source": [
    "result = df.groupby(target)[numerical].agg(['mean', 'median', 'std']).round(3).T\n",
    "\n",
    "result.index = [' : '.join(col).strip() for col in result.index.values]\n",
    "result"
   ]
  },
  {
   "cell_type": "code",
   "execution_count": 130,
   "id": "eae139ce",
   "metadata": {},
   "outputs": [
    {
     "data": {
      "application/vnd.microsoft.datawrangler.viewer.v0+json": {
       "columns": [
        {
         "name": "index",
         "rawType": "object",
         "type": "string"
        },
        {
         "name": "mean",
         "rawType": "float64",
         "type": "float"
        },
        {
         "name": "median",
         "rawType": "float64",
         "type": "float"
        },
        {
         "name": "std",
         "rawType": "float64",
         "type": "float"
        }
       ],
       "ref": "7bec4fa3-3fc6-4232-8f1d-94a93a7ca1df",
       "rows": [
        [
         "age",
         "0.003",
         "0.0",
         "-0.007"
        ],
        [
         "listening_time",
         "-0.009",
         "-0.013",
         "-0.014"
        ],
        [
         "songs_played_per_day",
         "0.012",
         "0.04",
         "-0.004"
        ],
        [
         "skip_rate",
         "0.021",
         "0.033",
         "0.006"
        ],
        [
         "ads_listened_per_week",
         "-0.01",
         null,
         "0.011"
        ]
       ],
       "shape": {
        "columns": 3,
        "rows": 5
       }
      },
      "text/html": [
       "<div>\n",
       "<style scoped>\n",
       "    .dataframe tbody tr th:only-of-type {\n",
       "        vertical-align: middle;\n",
       "    }\n",
       "\n",
       "    .dataframe tbody tr th {\n",
       "        vertical-align: top;\n",
       "    }\n",
       "\n",
       "    .dataframe thead th {\n",
       "        text-align: right;\n",
       "    }\n",
       "</style>\n",
       "<table border=\"1\" class=\"dataframe\">\n",
       "  <thead>\n",
       "    <tr style=\"text-align: right;\">\n",
       "      <th></th>\n",
       "      <th>mean</th>\n",
       "      <th>median</th>\n",
       "      <th>std</th>\n",
       "    </tr>\n",
       "  </thead>\n",
       "  <tbody>\n",
       "    <tr>\n",
       "      <th>age</th>\n",
       "      <td>0.003</td>\n",
       "      <td>0.000</td>\n",
       "      <td>-0.007</td>\n",
       "    </tr>\n",
       "    <tr>\n",
       "      <th>listening_time</th>\n",
       "      <td>-0.009</td>\n",
       "      <td>-0.013</td>\n",
       "      <td>-0.014</td>\n",
       "    </tr>\n",
       "    <tr>\n",
       "      <th>songs_played_per_day</th>\n",
       "      <td>0.012</td>\n",
       "      <td>0.040</td>\n",
       "      <td>-0.004</td>\n",
       "    </tr>\n",
       "    <tr>\n",
       "      <th>skip_rate</th>\n",
       "      <td>0.021</td>\n",
       "      <td>0.033</td>\n",
       "      <td>0.006</td>\n",
       "    </tr>\n",
       "    <tr>\n",
       "      <th>ads_listened_per_week</th>\n",
       "      <td>-0.010</td>\n",
       "      <td>NaN</td>\n",
       "      <td>0.011</td>\n",
       "    </tr>\n",
       "  </tbody>\n",
       "</table>\n",
       "</div>"
      ],
      "text/plain": [
       "                        mean  median    std\n",
       "age                    0.003   0.000 -0.007\n",
       "listening_time        -0.009  -0.013 -0.014\n",
       "songs_played_per_day   0.012   0.040 -0.004\n",
       "skip_rate              0.021   0.033  0.006\n",
       "ads_listened_per_week -0.010     NaN  0.011"
      ]
     },
     "execution_count": 130,
     "metadata": {},
     "output_type": "execute_result"
    }
   ],
   "source": [
    "stats = df.groupby(target)[numerical].agg(['mean','median','std'])\n",
    "diff  = (stats.loc[True] - stats.loc[False]).unstack().round(3)      \n",
    "rel   = (((stats.loc[True] - stats.loc[False]) / stats.loc[False])\n",
    "         .unstack().round(3)) \n",
    "rel                                       "
   ]
  },
  {
   "cell_type": "markdown",
   "id": "49815133",
   "metadata": {},
   "source": [
    "**Takeaway:** These are groupwise stats (feature values conditioned on churn=True/False), not probabilities. Differences are small; treat them as preliminary signals."
   ]
  },
  {
   "cell_type": "code",
   "execution_count": 131,
   "id": "79a07ea5",
   "metadata": {},
   "outputs": [
    {
     "data": {
      "text/plain": [
       "<Axes: >"
      ]
     },
     "execution_count": 131,
     "metadata": {},
     "output_type": "execute_result"
    },
    {
     "data": {
      "image/png": "[encoded data removed]",
      "text/plain": [
       "<Figure size 1000x600 with 2 Axes>"
      ]
     },
     "metadata": {},
     "output_type": "display_data"
    }
   ],
   "source": [
    "plt.figure(figsize=(10, 6))\n",
    "sns.heatmap(df[numerical + boolean].corr(numeric_only=True), cmap='viridis', annot=True, linewidths=0.2, fmt='.2f')\n"
   ]
  },
  {
   "cell_type": "markdown",
   "id": "2fc24c51",
   "metadata": {},
   "source": [
    "- In the correlation matrix, **almost all pairs** of numerical features have |r| ≈ 0.00 – 0.02 -> **no strong relationships**.\n",
    "- **Exception:** `offline_listening` and `ads_listened_per_week` shows a **very strong negative correlation** (~−0.88).\n",
    "  - **Offline listening** requires a **paid subscription**.\n",
    "  - A **paid subscription** -> **no ads**.\n",
    "  - Therefore, `offline_listening` and `ads_listened_per_week` act as **proxies for the same information**, and are also strongly linked to `subscription_type`.\n"
   ]
  },
  {
   "cell_type": "code",
   "execution_count": 132,
   "id": "d096de2a",
   "metadata": {},
   "outputs": [
    {
     "data": {
      "image/png": "[encoded data removed]",
      "text/plain": [
       "<Figure size 1000x800 with 4 Axes>"
      ]
     },
     "metadata": {},
     "output_type": "display_data"
    }
   ],
   "source": [
    "fig, axs = plt.subplots(2, 2, figsize=(10, 8), constrained_layout=True)\n",
    "for ax, i in zip(axs.flat, categorical):\n",
    "    rate = (df.groupby(i)['is_churned'].mean() * 100).sort_values()\n",
    "    colors = sns.color_palette('Blues', n_colors=len(rate))\n",
    "    rate.plot(kind='barh', color=colors, ax=ax)\n",
    "    ax.set_title(f\"{i} — churn %\")\n",
    "    ax.set_xlabel(\"churn (%)\")\n",
    "\n",
    "plt.show()"
   ]
  },
  {
   "cell_type": "markdown",
   "id": "fee999e0",
   "metadata": {},
   "source": [
    "- **No very strong relationships.** Differences between categories are **small to moderate**.\n",
    "- `subscription_type:` highest churn for **Family**, lowest for **Premium** -> there is a signal, but small (a few percentage points).\n",
    "- `device_type:` **Mobile** higher than **Web/Desktop** -> moderate effect.\n",
    "- `country:` differences across countries are minor (a few percentage points up/down).\n",
    "- `gender:` weakest signal; values are very close.\n",
    "\n",
    "**Conclusion:** categorical features carry **some** signal, but **not a strong** one. Keep them for ML (after merging rare levels and applying OHE), but don’t expect a large impact from any single category.\n"
   ]
  },
  {
   "cell_type": "markdown",
   "id": "9d984e69",
   "metadata": {},
   "source": [
    "- **To drop in ML:**\n",
    "  - `user_id` — identifier/index; carries no predictive signal.\n",
    "  - `offline_listening` — **redundant** relative to `subscription_type`/`ads_listened_per_week`; drop to reduce collinearity.\n"
   ]
  },
  {
   "cell_type": "code",
   "execution_count": null,
   "id": "ed41d20a",
   "metadata": {},
   "outputs": [],
   "source": [
    "df.to_parquet(\"../data/processed/spotify_churn_dataset_clean.parquet\", engine=\"fastparquet\", index=False)"
   ]
  }
 ],
 "metadata": {
  "kernelspec": {
   "display_name": "venv",
   "language": "python",
   "name": "python3"
  },
  "language_info": {
   "codemirror_mode": {
    "name": "ipython",
    "version": 3
   },
   "file_extension": ".py",
   "mimetype": "text/x-python",
   "name": "python",
   "nbconvert_exporter": "python",
   "pygments_lexer": "ipython3",
   "version": "3.13.2"
  }
 },
 "nbformat": 4,
 "nbformat_minor": 5
}
